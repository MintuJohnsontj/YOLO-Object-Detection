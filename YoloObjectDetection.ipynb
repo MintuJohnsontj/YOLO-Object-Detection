{
 "cells": [
  {
   "cell_type": "markdown",
   "id": "dca4a1d3",
   "metadata": {},
   "source": [
    "https://www.thepythoncode.com/article/yolo-object-detection-with-opencv-and-pytorch-in-python"
   ]
  },
  {
   "cell_type": "code",
   "execution_count": 1,
   "id": "29b816a0",
   "metadata": {},
   "outputs": [],
   "source": [
    "import cv2\n",
    "import numpy as np\n",
    "\n",
    "import time\n",
    "import sys\n",
    "import os"
   ]
  },
  {
   "cell_type": "code",
   "execution_count": 3,
   "id": "3e097518",
   "metadata": {},
   "outputs": [],
   "source": [
    "CONFIDENCE = 0.5\n",
    "SCORE_THRESHOLD = 0.5\n",
    "IOU_THRESHOLD = 0.5\n",
    "\n",
    "config_path = \"yolov3-tiny.cfg\"        # the neural network configuration\n",
    "weights_path = \"yolov3-tiny.weights\"   # the YOLO net weights file\n",
    "\n",
    "labels = open(\"coco.names\").read().strip().split(\"\\n\")        # loading all the class labels (objects)\n",
    "colors = np.random.randint(0, 255, size=(len(labels), 3), dtype=\"uint8\") # generating colors for each object for later plotting"
   ]
  },
  {
   "cell_type": "markdown",
   "id": "0f4986b3",
   "metadata": {},
   "source": [
    "# Load the Model"
   ]
  },
  {
   "cell_type": "code",
   "execution_count": 19,
   "id": "3572b6e6",
   "metadata": {},
   "outputs": [],
   "source": [
    "# Opencv.dnn: https://learnopencv.com/deep-learning-with-opencvs-dnn-module-a-definitive-guide/\n",
    "# load the YOLO network\n",
    "net = cv2.dnn.readNetFromDarknet(config_path, weights_path)"
   ]
  },
  {
   "cell_type": "markdown",
   "id": "fd964dd8",
   "metadata": {},
   "source": [
    "# Image Preparation"
   ]
  },
  {
   "cell_type": "code",
   "execution_count": 5,
   "id": "7cec613d",
   "metadata": {},
   "outputs": [],
   "source": [
    "path_name = \"E:\\\\Miscelleneous\\\\street.jpg\"\n",
    "image = cv2.imread(path_name)\n",
    "file_name = os.path.basename(path_name)\n",
    "filename, ext = file_name.split(\".\")"
   ]
  },
  {
   "cell_type": "markdown",
   "id": "2b3560f5",
   "metadata": {},
   "source": [
    "Normalize, scale and reshape this image to be suitable as an input to the neural network.\n",
    "\n",
    "This will normalize pixel values to range from 0 to 1, resize the image to (416, 416) and reshape it."
   ]
  },
  {
   "cell_type": "code",
   "execution_count": 6,
   "id": "440682d5",
   "metadata": {},
   "outputs": [],
   "source": [
    "h, w = image.shape[:2]\n",
    "# create 4D blob\n",
    "blob = cv2.dnn.blobFromImage(image, 1/255.0, (416, 416), swapRB=True, crop=False)"
   ]
  },
  {
   "cell_type": "code",
   "execution_count": 7,
   "id": "8ce07e62",
   "metadata": {},
   "outputs": [
    {
     "name": "stdout",
     "output_type": "stream",
     "text": [
      "image.shape: (1200, 1800, 3)\n",
      "blob.shape: (1, 3, 416, 416)\n"
     ]
    }
   ],
   "source": [
    "print(\"image.shape:\", image.shape)\n",
    "print(\"blob.shape:\", blob.shape)"
   ]
  },
  {
   "cell_type": "markdown",
   "id": "b1ce2a4f",
   "metadata": {},
   "source": [
    "# Making Predictions"
   ]
  },
  {
   "cell_type": "code",
   "execution_count": 8,
   "id": "85ff49dd",
   "metadata": {},
   "outputs": [
    {
     "name": "stdout",
     "output_type": "stream",
     "text": [
      "Time took: 0.57s\n"
     ]
    }
   ],
   "source": [
    "net.setInput(blob)        # sets the blob as the input of the network\n",
    "ln = net.getLayerNames()  # get all the layer names\n",
    "ln = [ln[i[0] - 1] for i in net.getUnconnectedOutLayers()]\n",
    "\n",
    "# Feed forward (inference) and get the network output\n",
    "# measure how much it took in seconds\n",
    "start = time.perf_counter()\n",
    "layer_outputs = net.forward(ln)\n",
    "time_took = time.perf_counter() - start\n",
    "print(f\"Time took: {time_took:.2f}s\")"
   ]
  },
  {
   "cell_type": "code",
   "execution_count": null,
   "id": "6c075b39",
   "metadata": {},
   "outputs": [],
   "source": [
    "font_scale = 1\n",
    "thickness = 1\n",
    "boxes, confidences, class_ids = [], [], []\n",
    "\n",
    "# loop over each of the layer outputs\n",
    "for output in layer_outputs:\n",
    "        \n",
    "    for detection in output:    # loop over each of the object detections\n",
    "        \n",
    "        scores = detection[5:]\n",
    "        class_id = np.argmax(scores)   # Extract the class id (label) and confidence (as a probability) \n",
    "        confidence = scores[class_id]  # of the current object detection\n",
    "        \n",
    "        # Discard out weak predictions by ensuring the detected probability is greater than the min probability\n",
    "        if confidence > CONFIDENCE:\n",
    "            # scale the bounding box coordinates back relative to the\n",
    "            # size of the image, keeping in mind that YOLO actually\n",
    "            # returns the center (x, y)-coordinates of the bounding\n",
    "            # box followed by the boxes' width and height\n",
    "            box = detection[:4] * np.array([w, h, w, h])\n",
    "            (centerX, centerY, width, height) = box.astype(\"int\")\n",
    "            # use the center (x, y)-coordinates to derive the top and\n",
    "            # and left corner of the bounding box\n",
    "            x = int(centerX - (width / 2))\n",
    "            y = int(centerY - (height / 2))\n",
    "            # update our list of bounding box coordinates, confidences,\n",
    "            # and class IDs\n",
    "            boxes.append([x, y, int(width), int(height)])\n",
    "            confidences.append(float(confidence))\n",
    "            class_ids.append(class_id)"
   ]
  },
  {
   "cell_type": "code",
   "execution_count": 10,
   "id": "64739406",
   "metadata": {},
   "outputs": [
    {
     "name": "stdout",
     "output_type": "stream",
     "text": [
      "(85,)\n"
     ]
    }
   ],
   "source": [
    "print(detection.shape)"
   ]
  },
  {
   "cell_type": "markdown",
   "id": "153faded",
   "metadata": {},
   "source": [
    "# Drawing Detected Objects"
   ]
  },
  {
   "cell_type": "code",
   "execution_count": 11,
   "id": "321246a3",
   "metadata": {},
   "outputs": [],
   "source": [
    "# loop over the indexes we are keeping\n",
    "for i in range(len(boxes)):\n",
    "    # extract the bounding box coordinates\n",
    "    x, y = boxes[i][0], boxes[i][1]\n",
    "    w, h = boxes[i][2], boxes[i][3]\n",
    "    # draw a bounding box rectangle and label on the image\n",
    "    color = [int(c) for c in colors[class_ids[i]]]\n",
    "    cv2.rectangle(image, (x, y), (x + w, y + h), color=color, thickness=thickness)\n",
    "    text = f\"{labels[class_ids[i]]}: {confidences[i]:.2f}\"\n",
    "    # calculate text width & height to draw the transparent boxes as background of the text\n",
    "    (text_width, text_height) = cv2.getTextSize(text, cv2.FONT_HERSHEY_SIMPLEX, fontScale=font_scale, thickness=thickness)[0]\n",
    "    text_offset_x = x\n",
    "    text_offset_y = y - 5\n",
    "    box_coords = ((text_offset_x, text_offset_y), (text_offset_x + text_width + 2, text_offset_y - text_height))\n",
    "    overlay = image.copy()\n",
    "    cv2.rectangle(overlay, box_coords[0], box_coords[1], color=color, thickness=cv2.FILLED)\n",
    "    # add opacity (transparency to the box)\n",
    "    image = cv2.addWeighted(overlay, 0.6, image, 0.4, 0)\n",
    "    # now put the text (label: confidence %)\n",
    "    cv2.putText(image, text, (x, y - 5), cv2.FONT_HERSHEY_SIMPLEX,\n",
    "        fontScale=font_scale, color=(0, 0, 0), thickness=thickness)"
   ]
  },
  {
   "cell_type": "code",
   "execution_count": 12,
   "id": "3fef5f73",
   "metadata": {},
   "outputs": [
    {
     "data": {
      "text/plain": [
       "True"
      ]
     },
     "execution_count": 12,
     "metadata": {},
     "output_type": "execute_result"
    }
   ],
   "source": [
    "cv2.imwrite(filename + \"_yolo3.\" + ext, image)"
   ]
  },
  {
   "cell_type": "markdown",
   "id": "c38ebfb6",
   "metadata": {},
   "source": [
    "# Non-Maximal Suppression"
   ]
  },
  {
   "cell_type": "code",
   "execution_count": 13,
   "id": "fc98b9cb",
   "metadata": {},
   "outputs": [],
   "source": [
    "# perform the non maximum suppression given the scores defined before\n",
    "idxs = cv2.dnn.NMSBoxes(boxes, confidences, SCORE_THRESHOLD, IOU_THRESHOLD)"
   ]
  },
  {
   "cell_type": "code",
   "execution_count": 16,
   "id": "f57b9580",
   "metadata": {},
   "outputs": [],
   "source": [
    "# ensure at least one detection exists\n",
    "if len(idxs) > 0:\n",
    "    # loop over the indexes we are keeping\n",
    "    for i in idxs.flatten():\n",
    "        # extract the bounding box coordinates\n",
    "        x, y = boxes[i][0], boxes[i][1]\n",
    "        w, h = boxes[i][2], boxes[i][3]\n",
    "        # draw a bounding box rectangle and label on the image\n",
    "        color = [int(c) for c in colors[class_ids[i]]]\n",
    "        cv2.rectangle(image, (x, y), (x + w, y + h), color=color, thickness=thickness)\n",
    "        text = f\"{labels[class_ids[i]]}: {confidences[i]:.2f}\"\n",
    "        # calculate text width & height to draw the transparent boxes as background of the text\n",
    "        (text_width, text_height) = cv2.getTextSize(text, cv2.FONT_HERSHEY_SIMPLEX, fontScale=font_scale,thickness=thickness)[0]\n",
    "        text_offset_x = x\n",
    "        text_offset_y = y - 5\n",
    "        box_coords = ((text_offset_x, text_offset_y), (text_offset_x + text_width + 2, text_offset_y - text_height))\n",
    "        overlay = image.copy()\n",
    "        cv2.rectangle(overlay, box_coords[0], box_coords[1], color=color, thickness=cv2.FILLED)\n",
    "        # add opacity (transparency to the box)\n",
    "        image = cv2.addWeighted(overlay, 0.6, image, 0.4, 0)\n",
    "        # now put the text (label: confidence %)\n",
    "        cv2.putText(image, text, (x, y - 5), cv2.FONT_HERSHEY_SIMPLEX,\n",
    "            fontScale=font_scale, color=(0, 0, 0), thickness=thickness)"
   ]
  },
  {
   "cell_type": "code",
   "execution_count": 17,
   "id": "a2b08634",
   "metadata": {},
   "outputs": [
    {
     "data": {
      "text/plain": [
       "True"
      ]
     },
     "execution_count": 17,
     "metadata": {},
     "output_type": "execute_result"
    }
   ],
   "source": [
    "cv2.imwrite(filename + \"_yolo3.\" + ext, image)"
   ]
  },
  {
   "cell_type": "code",
   "execution_count": null,
   "id": "0c63019c",
   "metadata": {},
   "outputs": [],
   "source": []
  }
 ],
 "metadata": {
  "kernelspec": {
   "display_name": "Python 3",
   "language": "python",
   "name": "python3"
  },
  "language_info": {
   "codemirror_mode": {
    "name": "ipython",
    "version": 3
   },
   "file_extension": ".py",
   "mimetype": "text/x-python",
   "name": "python",
   "nbconvert_exporter": "python",
   "pygments_lexer": "ipython3",
   "version": "3.8.8"
  }
 },
 "nbformat": 4,
 "nbformat_minor": 5
}
